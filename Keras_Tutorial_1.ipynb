{
  "nbformat": 4,
  "nbformat_minor": 0,
  "metadata": {
    "colab": {
      "name": "Keras_Tutorial_1.ipynb",
      "provenance": []
    },
    "kernelspec": {
      "name": "python3",
      "display_name": "Python 3"
    }
  },
  "cells": [
    {
      "cell_type": "code",
      "metadata": {
        "id": "nsbgAHQnrWuS",
        "colab_type": "code",
        "colab": {}
      },
      "source": [
        "import keras\n",
        "from keras.models import Sequential\n",
        "from keras.layers import Dense\n",
        "\n",
        "import numpy as np\n",
        "data = np.random.random((1000, 10)) #隨機產生1000筆資料，每筆資料1包含十個float數字\n",
        "labels = np.random.randint(2, size=(1000, 1)) #隨機產生1000筆資料，每筆資料上限為2(意思就是0 或 1)\n",
        "print(np.shape(data))\n",
        "print(data[0])\n",
        "print(np.shape(labels))\n",
        "print(labels[0])\n",
        "\n",
        "model = Sequential()\n",
        "model.add(Dense(32, activation='relu', input_dim=10))\n",
        "model.add(Dense(1, activation='sigmoid'))\n",
        "model.compile(optimizer='rmsprop', loss='binary_crossentropy', metrics=['accuracy'])\n",
        "\n",
        "model.fit(data, labels, epochs=10, batch_size=32)\n",
        "\n",
        "score=model.evaluate(data, labels)\n",
        "print(score[1])"
      ],
      "execution_count": 0,
      "outputs": []
    }
  ]
}